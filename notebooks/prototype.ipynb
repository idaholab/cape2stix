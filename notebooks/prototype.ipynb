{
 "cells": [
  {
   "cell_type": "code",
   "execution_count": 31,
   "id": "c15788f4",
   "metadata": {},
   "outputs": [],
   "source": [
    "#prototype w\n",
    "# Copyright 2023, Battelle Energy Alliance, LLC\n",
    "import restWrapper #Custom class\n",
    "import matplotlib.pyplot as plt\n",
    "from textwrap import wrap"
   ]
  },
  {
   "cell_type": "code",
   "execution_count": 40,
   "id": "9eb41b94",
   "metadata": {},
   "outputs": [],
   "source": [
    "HOST = 'localhost'\n",
    "PORT = '2480'\n",
    "USER = 'root'\n",
    "PASS = 'toor'\n",
    "DB = 'winBulkTest'\n",
    "SAVEPLOTS = False # Change this to false to not save jpegs"
   ]
  },
  {
   "cell_type": "code",
   "execution_count": 7,
   "id": "fa278721",
   "metadata": {
    "scrolled": false
   },
   "outputs": [
    {
     "name": "stdout",
     "output_type": "stream",
     "text": [
      "database exists\n"
     ]
    }
   ],
   "source": [
    "#Connect to database\n",
    "client = restWrapper.RestAPIWrapper(HOST, PORT, USER, PASS, DB)\n",
    "client.connectToDb()\n",
    "#Check if database exists\n",
    "if client.checkDbExists():\n",
    "   print('database exists')\n",
    "else:\n",
    "    print('Database does not exist! This notebook assumes that you have a working OrientDB database with data loaded into it')\n",
    "    sys.exit(0)\n",
    "    "
   ]
  }
 ],
 "metadata": {
  "kernelspec": {
   "display_name": "Python 3 (ipykernel)",
   "language": "python",
   "name": "python3"
  },
  "language_info": {
   "codemirror_mode": {
    "name": "ipython",
    "version": 3
   },
   "file_extension": ".py",
   "mimetype": "text/x-python",
   "name": "python",
   "nbconvert_exporter": "python",
   "pygments_lexer": "ipython3",
   "version": "3.8.10"
  }
 },
 "nbformat": 4,
 "nbformat_minor": 5
}
